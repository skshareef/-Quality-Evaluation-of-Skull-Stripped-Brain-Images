{
 "cells": [
  {
   "cell_type": "code",
   "execution_count": 1,
   "id": "8bf94f64-f8dd-4c48-acdc-3efe64e864c3",
   "metadata": {
    "colab": {
     "base_uri": "https://localhost:8080/"
    },
    "id": "8bf94f64-f8dd-4c48-acdc-3efe64e864c3",
    "outputId": "d44760ac-2fd5-4e9b-d5c9-5b0dfdb906f0"
   },
   "outputs": [
    {
     "name": "stdout",
     "output_type": "stream",
     "text": [
      "Defaulting to user installation because normal site-packages is not writeable\n",
      "Requirement already satisfied: nibabel in /home/lrangar/.local/lib/python3.9/site-packages (5.0.1)\n",
      "Requirement already satisfied: setuptools in /software/spackages/linux-rocky8-x86_64/gcc-9.5.0/anaconda3-2022.05-zyrazrj6uvrtukupqzhaslr63w7hj6in/lib/python3.9/site-packages (from nibabel) (61.2.0)\n",
      "Requirement already satisfied: packaging>=17 in /software/spackages/linux-rocky8-x86_64/gcc-9.5.0/anaconda3-2022.05-zyrazrj6uvrtukupqzhaslr63w7hj6in/lib/python3.9/site-packages (from nibabel) (21.3)\n",
      "Requirement already satisfied: numpy>=1.19 in /software/spackages/linux-rocky8-x86_64/gcc-9.5.0/anaconda3-2022.05-zyrazrj6uvrtukupqzhaslr63w7hj6in/lib/python3.9/site-packages (from nibabel) (1.21.5)\n",
      "Requirement already satisfied: pyparsing!=3.0.5,>=2.0.2 in /software/spackages/linux-rocky8-x86_64/gcc-9.5.0/anaconda3-2022.05-zyrazrj6uvrtukupqzhaslr63w7hj6in/lib/python3.9/site-packages (from packaging>=17->nibabel) (3.0.4)\n",
      "Defaulting to user installation because normal site-packages is not writeable\n",
      "Requirement already satisfied: torch in /home/lrangar/.local/lib/python3.9/site-packages (2.0.0)\n",
      "Requirement already satisfied: typing-extensions in /software/spackages/linux-rocky8-x86_64/gcc-9.5.0/anaconda3-2022.05-zyrazrj6uvrtukupqzhaslr63w7hj6in/lib/python3.9/site-packages (from torch) (4.1.1)\n",
      "Requirement already satisfied: jinja2 in /software/spackages/linux-rocky8-x86_64/gcc-9.5.0/anaconda3-2022.05-zyrazrj6uvrtukupqzhaslr63w7hj6in/lib/python3.9/site-packages (from torch) (2.11.3)\n",
      "Requirement already satisfied: nvidia-curand-cu11==10.2.10.91 in /home/lrangar/.local/lib/python3.9/site-packages (from torch) (10.2.10.91)\n",
      "Requirement already satisfied: filelock in /software/spackages/linux-rocky8-x86_64/gcc-9.5.0/anaconda3-2022.05-zyrazrj6uvrtukupqzhaslr63w7hj6in/lib/python3.9/site-packages (from torch) (3.6.0)\n",
      "Requirement already satisfied: nvidia-nccl-cu11==2.14.3 in /home/lrangar/.local/lib/python3.9/site-packages (from torch) (2.14.3)\n",
      "Requirement already satisfied: nvidia-cuda-nvrtc-cu11==11.7.99 in /home/lrangar/.local/lib/python3.9/site-packages (from torch) (11.7.99)\n",
      "Requirement already satisfied: nvidia-cublas-cu11==11.10.3.66 in /home/lrangar/.local/lib/python3.9/site-packages (from torch) (11.10.3.66)\n",
      "Requirement already satisfied: nvidia-cuda-runtime-cu11==11.7.99 in /home/lrangar/.local/lib/python3.9/site-packages (from torch) (11.7.99)\n",
      "Requirement already satisfied: nvidia-cuda-cupti-cu11==11.7.101 in /home/lrangar/.local/lib/python3.9/site-packages (from torch) (11.7.101)\n",
      "Requirement already satisfied: nvidia-cusolver-cu11==11.4.0.1 in /home/lrangar/.local/lib/python3.9/site-packages (from torch) (11.4.0.1)\n",
      "Requirement already satisfied: nvidia-nvtx-cu11==11.7.91 in /home/lrangar/.local/lib/python3.9/site-packages (from torch) (11.7.91)\n",
      "Requirement already satisfied: triton==2.0.0 in /home/lrangar/.local/lib/python3.9/site-packages (from torch) (2.0.0)\n",
      "Requirement already satisfied: networkx in /software/spackages/linux-rocky8-x86_64/gcc-9.5.0/anaconda3-2022.05-zyrazrj6uvrtukupqzhaslr63w7hj6in/lib/python3.9/site-packages (from torch) (2.7.1)\n",
      "Requirement already satisfied: nvidia-cudnn-cu11==8.5.0.96 in /home/lrangar/.local/lib/python3.9/site-packages (from torch) (8.5.0.96)\n",
      "Requirement already satisfied: nvidia-cusparse-cu11==11.7.4.91 in /home/lrangar/.local/lib/python3.9/site-packages (from torch) (11.7.4.91)\n",
      "Requirement already satisfied: nvidia-cufft-cu11==10.9.0.58 in /home/lrangar/.local/lib/python3.9/site-packages (from torch) (10.9.0.58)\n",
      "Requirement already satisfied: sympy in /software/spackages/linux-rocky8-x86_64/gcc-9.5.0/anaconda3-2022.05-zyrazrj6uvrtukupqzhaslr63w7hj6in/lib/python3.9/site-packages (from torch) (1.10.1)\n",
      "Requirement already satisfied: wheel in /software/spackages/linux-rocky8-x86_64/gcc-9.5.0/anaconda3-2022.05-zyrazrj6uvrtukupqzhaslr63w7hj6in/lib/python3.9/site-packages (from nvidia-cublas-cu11==11.10.3.66->torch) (0.37.1)\n",
      "Requirement already satisfied: setuptools in /software/spackages/linux-rocky8-x86_64/gcc-9.5.0/anaconda3-2022.05-zyrazrj6uvrtukupqzhaslr63w7hj6in/lib/python3.9/site-packages (from nvidia-cublas-cu11==11.10.3.66->torch) (61.2.0)\n",
      "Requirement already satisfied: lit in /home/lrangar/.local/lib/python3.9/site-packages (from triton==2.0.0->torch) (15.0.7)\n",
      "Requirement already satisfied: cmake in /home/lrangar/.local/lib/python3.9/site-packages (from triton==2.0.0->torch) (3.26.0)\n",
      "Requirement already satisfied: MarkupSafe>=0.23 in /software/spackages/linux-rocky8-x86_64/gcc-9.5.0/anaconda3-2022.05-zyrazrj6uvrtukupqzhaslr63w7hj6in/lib/python3.9/site-packages (from jinja2->torch) (2.0.1)\n",
      "Requirement already satisfied: mpmath>=0.19 in /software/spackages/linux-rocky8-x86_64/gcc-9.5.0/anaconda3-2022.05-zyrazrj6uvrtukupqzhaslr63w7hj6in/lib/python3.9/site-packages (from sympy->torch) (1.2.1)\n",
      "Defaulting to user installation because normal site-packages is not writeable\n",
      "Requirement already satisfied: torch-summary in /home/lrangar/.local/lib/python3.9/site-packages (1.4.5)\n",
      "Defaulting to user installation because normal site-packages is not writeable\n",
      "Requirement already satisfied: torchmetrics in /home/lrangar/.local/lib/python3.9/site-packages (0.11.4)\n",
      "Requirement already satisfied: numpy>=1.17.2 in /software/spackages/linux-rocky8-x86_64/gcc-9.5.0/anaconda3-2022.05-zyrazrj6uvrtukupqzhaslr63w7hj6in/lib/python3.9/site-packages (from torchmetrics) (1.21.5)\n",
      "Requirement already satisfied: packaging in /software/spackages/linux-rocky8-x86_64/gcc-9.5.0/anaconda3-2022.05-zyrazrj6uvrtukupqzhaslr63w7hj6in/lib/python3.9/site-packages (from torchmetrics) (21.3)\n",
      "Requirement already satisfied: torch>=1.8.1 in /home/lrangar/.local/lib/python3.9/site-packages (from torchmetrics) (2.0.0)\n",
      "Requirement already satisfied: nvidia-cufft-cu11==10.9.0.58 in /home/lrangar/.local/lib/python3.9/site-packages (from torch>=1.8.1->torchmetrics) (10.9.0.58)\n",
      "Requirement already satisfied: nvidia-cusolver-cu11==11.4.0.1 in /home/lrangar/.local/lib/python3.9/site-packages (from torch>=1.8.1->torchmetrics) (11.4.0.1)\n",
      "Requirement already satisfied: nvidia-cuda-cupti-cu11==11.7.101 in /home/lrangar/.local/lib/python3.9/site-packages (from torch>=1.8.1->torchmetrics) (11.7.101)\n",
      "Requirement already satisfied: typing-extensions in /software/spackages/linux-rocky8-x86_64/gcc-9.5.0/anaconda3-2022.05-zyrazrj6uvrtukupqzhaslr63w7hj6in/lib/python3.9/site-packages (from torch>=1.8.1->torchmetrics) (4.1.1)\n",
      "Requirement already satisfied: nvidia-cuda-nvrtc-cu11==11.7.99 in /home/lrangar/.local/lib/python3.9/site-packages (from torch>=1.8.1->torchmetrics) (11.7.99)\n",
      "Requirement already satisfied: triton==2.0.0 in /home/lrangar/.local/lib/python3.9/site-packages (from torch>=1.8.1->torchmetrics) (2.0.0)\n",
      "Requirement already satisfied: nvidia-cudnn-cu11==8.5.0.96 in /home/lrangar/.local/lib/python3.9/site-packages (from torch>=1.8.1->torchmetrics) (8.5.0.96)\n",
      "Requirement already satisfied: filelock in /software/spackages/linux-rocky8-x86_64/gcc-9.5.0/anaconda3-2022.05-zyrazrj6uvrtukupqzhaslr63w7hj6in/lib/python3.9/site-packages (from torch>=1.8.1->torchmetrics) (3.6.0)\n",
      "Requirement already satisfied: nvidia-nccl-cu11==2.14.3 in /home/lrangar/.local/lib/python3.9/site-packages (from torch>=1.8.1->torchmetrics) (2.14.3)\n",
      "Requirement already satisfied: nvidia-nvtx-cu11==11.7.91 in /home/lrangar/.local/lib/python3.9/site-packages (from torch>=1.8.1->torchmetrics) (11.7.91)\n",
      "Requirement already satisfied: sympy in /software/spackages/linux-rocky8-x86_64/gcc-9.5.0/anaconda3-2022.05-zyrazrj6uvrtukupqzhaslr63w7hj6in/lib/python3.9/site-packages (from torch>=1.8.1->torchmetrics) (1.10.1)\n",
      "Requirement already satisfied: nvidia-cuda-runtime-cu11==11.7.99 in /home/lrangar/.local/lib/python3.9/site-packages (from torch>=1.8.1->torchmetrics) (11.7.99)\n",
      "Requirement already satisfied: jinja2 in /software/spackages/linux-rocky8-x86_64/gcc-9.5.0/anaconda3-2022.05-zyrazrj6uvrtukupqzhaslr63w7hj6in/lib/python3.9/site-packages (from torch>=1.8.1->torchmetrics) (2.11.3)\n",
      "Requirement already satisfied: nvidia-cublas-cu11==11.10.3.66 in /home/lrangar/.local/lib/python3.9/site-packages (from torch>=1.8.1->torchmetrics) (11.10.3.66)\n",
      "Requirement already satisfied: nvidia-curand-cu11==10.2.10.91 in /home/lrangar/.local/lib/python3.9/site-packages (from torch>=1.8.1->torchmetrics) (10.2.10.91)\n",
      "Requirement already satisfied: nvidia-cusparse-cu11==11.7.4.91 in /home/lrangar/.local/lib/python3.9/site-packages (from torch>=1.8.1->torchmetrics) (11.7.4.91)\n",
      "Requirement already satisfied: networkx in /software/spackages/linux-rocky8-x86_64/gcc-9.5.0/anaconda3-2022.05-zyrazrj6uvrtukupqzhaslr63w7hj6in/lib/python3.9/site-packages (from torch>=1.8.1->torchmetrics) (2.7.1)\n",
      "Requirement already satisfied: wheel in /software/spackages/linux-rocky8-x86_64/gcc-9.5.0/anaconda3-2022.05-zyrazrj6uvrtukupqzhaslr63w7hj6in/lib/python3.9/site-packages (from nvidia-cublas-cu11==11.10.3.66->torch>=1.8.1->torchmetrics) (0.37.1)\n",
      "Requirement already satisfied: setuptools in /software/spackages/linux-rocky8-x86_64/gcc-9.5.0/anaconda3-2022.05-zyrazrj6uvrtukupqzhaslr63w7hj6in/lib/python3.9/site-packages (from nvidia-cublas-cu11==11.10.3.66->torch>=1.8.1->torchmetrics) (61.2.0)\n",
      "Requirement already satisfied: cmake in /home/lrangar/.local/lib/python3.9/site-packages (from triton==2.0.0->torch>=1.8.1->torchmetrics) (3.26.0)\n",
      "Requirement already satisfied: lit in /home/lrangar/.local/lib/python3.9/site-packages (from triton==2.0.0->torch>=1.8.1->torchmetrics) (15.0.7)\n",
      "Requirement already satisfied: MarkupSafe>=0.23 in /software/spackages/linux-rocky8-x86_64/gcc-9.5.0/anaconda3-2022.05-zyrazrj6uvrtukupqzhaslr63w7hj6in/lib/python3.9/site-packages (from jinja2->torch>=1.8.1->torchmetrics) (2.0.1)\n",
      "Requirement already satisfied: pyparsing!=3.0.5,>=2.0.2 in /software/spackages/linux-rocky8-x86_64/gcc-9.5.0/anaconda3-2022.05-zyrazrj6uvrtukupqzhaslr63w7hj6in/lib/python3.9/site-packages (from packaging->torchmetrics) (3.0.4)\n",
      "Requirement already satisfied: mpmath>=0.19 in /software/spackages/linux-rocky8-x86_64/gcc-9.5.0/anaconda3-2022.05-zyrazrj6uvrtukupqzhaslr63w7hj6in/lib/python3.9/site-packages (from sympy->torch>=1.8.1->torchmetrics) (1.2.1)\n"
     ]
    }
   ],
   "source": [
    "!pip install nibabel\n",
    "!pip install torch\n",
    "!pip install torch-summary\n",
    "!pip install torchmetrics"
   ]
  },
  {
   "cell_type": "markdown",
   "id": "b894e945-6e62-4b36-a916-9a2e0c04dc93",
   "metadata": {
    "id": "b894e945-6e62-4b36-a916-9a2e0c04dc93"
   },
   "source": [
    "Importing the libraries"
   ]
  },
  {
   "cell_type": "code",
   "execution_count": 2,
   "id": "733b49ff-caba-4eda-b4ac-d30323f75879",
   "metadata": {
    "id": "733b49ff-caba-4eda-b4ac-d30323f75879"
   },
   "outputs": [],
   "source": [
    "import pandas as pd\n",
    "import math\n",
    "import nibabel as nib\n",
    "import os"
   ]
  },
  {
   "cell_type": "code",
   "execution_count": 3,
   "id": "4fd974db-f8ee-49da-9c7a-ac2a76c60307",
   "metadata": {
    "id": "4fd974db-f8ee-49da-9c7a-ac2a76c60307"
   },
   "outputs": [],
   "source": [
    "data_csv = pd.read_csv(\"labels.csv\") # Total 2059 entries"
   ]
  },
  {
   "cell_type": "markdown",
   "id": "1b919548-984b-4f8f-9f65-3dcca535f09e",
   "metadata": {
    "id": "1b919548-984b-4f8f-9f65-3dcca535f09e"
   },
   "source": [
    "Counting images belonging to different lables"
   ]
  },
  {
   "cell_type": "code",
   "execution_count": 4,
   "id": "d62892ee-6782-47b4-97a8-57badd37d3b9",
   "metadata": {
    "colab": {
     "base_uri": "https://localhost:8080/"
    },
    "id": "d62892ee-6782-47b4-97a8-57badd37d3b9",
    "outputId": "a7f50d0a-35b7-4148-f3d3-1361e3b2b3a6"
   },
   "outputs": [
    {
     "name": "stdout",
     "output_type": "stream",
     "text": [
      "{'Y-N': 713, 'Y-Y': 0, 'N-Y': 1332, 'N-N': 15}\n"
     ]
    }
   ],
   "source": [
    "count_of_diff_lables = {\"Y-N\":0, \"Y-Y\":0, \"N-Y\":0, \"N-N\":0}\n",
    "\n",
    "'''\n",
    "Y-N = Input image consists of recognizable facial features with no brain feature loss.\n",
    "Y-Y = Input image consists of recognizable facial features and brain features are lost. => Image has only facial features.\n",
    "N-Y = Input image doesn't have recognizable facial features and there are brain features loss.\n",
    "N-N = Input image doesn't have recognizable facial features and there is no brain feature loss. => perfect desired sample.\n",
    "'''\n",
    "\n",
    "data_csv_shape = data_csv.shape\n",
    "data_y_n = []\n",
    "data_y_y = []\n",
    "data_n_y = []\n",
    "data_n_n = []\n",
    "\n",
    "for row_num in range(data_csv_shape[0]):\n",
    "    if data_csv.iloc[row_num][1] == \"Yes\" and data_csv.iloc[row_num][2] == \"No\":\n",
    "        count_of_diff_lables[\"Y-N\"] = count_of_diff_lables[\"Y-N\"] + 1\n",
    "        data_y_n.append(data_csv.iloc[row_num])\n",
    "    elif data_csv.iloc[row_num][1] == \"Yes\" and data_csv.iloc[row_num][2] == \"Yes\":\n",
    "        count_of_diff_lables[\"Y-Y\"] = count_of_diff_lables[\"Y-Y\"] + 1\n",
    "        data_y_y.append(data_csv.iloc[row_num])\n",
    "    elif data_csv.iloc[row_num][1] == \"No\" and data_csv.iloc[row_num][2] == \"Yes\":\n",
    "        count_of_diff_lables[\"N-Y\"] = count_of_diff_lables[\"N-Y\"] + 1\n",
    "        data_n_y.append(data_csv.iloc[row_num])\n",
    "    elif data_csv.iloc[row_num][1] == \"No\" and data_csv.iloc[row_num][2] == \"No\":\n",
    "        count_of_diff_lables[\"N-N\"] = count_of_diff_lables[\"N-N\"] + 1\n",
    "        data_n_n.append(data_csv.iloc[row_num])\n",
    "        \n",
    "print(count_of_diff_lables) #{'Y-N': 713, 'Y-Y': 0, 'N-Y': 1332, 'N-N': 15}\n",
    "data_y_n = pd.DataFrame(data_y_n)\n",
    "data_y_y = pd.DataFrame(data_y_y)\n",
    "data_n_y = pd.DataFrame(data_n_y)\n",
    "data_n_n = pd.DataFrame(data_n_n)"
   ]
  },
  {
   "cell_type": "markdown",
   "id": "ae8a4ed0-baaa-46bf-9362-6683699b33cd",
   "metadata": {
    "id": "ae8a4ed0-baaa-46bf-9362-6683699b33cd"
   },
   "source": [
    "Train-Validation-Test splitting"
   ]
  },
  {
   "cell_type": "code",
   "execution_count": 5,
   "id": "c9d900cf-20ea-4291-a51b-f78893051543",
   "metadata": {
    "colab": {
     "base_uri": "https://localhost:8080/"
    },
    "id": "c9d900cf-20ea-4291-a51b-f78893051543",
    "outputId": "a86632e5-8de4-4269-ca70-65dfd85e1a74"
   },
   "outputs": [
    {
     "name": "stdout",
     "output_type": "stream",
     "text": [
      "training_y_n samples size =  (428, 3)\n",
      "validation_y_n samples size =  (142, 3)\n",
      "testing_y_n samples size =  (143, 3)\n",
      "training_y_y samples size =  (0, 0)\n",
      "validation_y_y samples size =  (0, 0)\n",
      "testing_y_y samples size =  (0, 0)\n",
      "training_n_y samples size =  (800, 3)\n",
      "validation_n_y samples size =  (266, 3)\n",
      "testing_n_y samples size =  (266, 3)\n",
      "training_n_n samples size =  (9, 3)\n",
      "validation_n_n samples size =  (3, 3)\n",
      "testing_n_n samples size =  (3, 3)\n"
     ]
    }
   ],
   "source": [
    "data_y_n_shape = data_y_n.shape\n",
    "data_y_y_shape = data_y_y.shape\n",
    "data_n_y_shape = data_n_y.shape\n",
    "data_n_n_shape = data_n_n.shape\n",
    "\n",
    "training_samples = pd.DataFrame()\n",
    "validation_samples = pd.DataFrame()\n",
    "testing_samples = pd.DataFrame()\n",
    "\n",
    "#Y-N samples\n",
    "training_split_y_n = math.ceil(0.6*data_y_n_shape[0])\n",
    "validation_split_y_n = math.floor(data_y_n_shape[0]*0.2)\n",
    "\n",
    "training_samples_y_n = pd.DataFrame(data_y_n.iloc[0:training_split_y_n])\n",
    "validation_samples_y_n = pd.DataFrame(data_y_n.iloc[training_split_y_n: training_split_y_n + validation_split_y_n])\n",
    "testing_samples_y_n = pd.DataFrame(data_y_n.iloc[(training_split_y_n + validation_split_y_n):])\n",
    "\n",
    "print(\"training_y_n samples size = \", training_samples_y_n.shape)\n",
    "print(\"validation_y_n samples size = \", validation_samples_y_n.shape)\n",
    "print(\"testing_y_n samples size = \", testing_samples_y_n.shape)\n",
    "\n",
    "#Y-Y samples\n",
    "training_split_y_y = math.ceil(0.6*data_y_y_shape[0])\n",
    "validation_split_y_y = math.floor(data_y_y_shape[0]*0.2)\n",
    "\n",
    "training_samples_y_y = pd.DataFrame(data_y_y.iloc[0:training_split_y_y])\n",
    "validation_samples_y_y = pd.DataFrame(data_y_y.iloc[training_split_y_y: training_split_y_y + validation_split_y_y])\n",
    "testing_samples_y_y = pd.DataFrame(data_y_y.iloc[(training_split_y_y + validation_split_y_y):])\n",
    "\n",
    "print(\"training_y_y samples size = \", training_samples_y_y.shape)\n",
    "print(\"validation_y_y samples size = \", validation_samples_y_y.shape)\n",
    "print(\"testing_y_y samples size = \", testing_samples_y_y.shape)\n",
    "\n",
    "#N-Y samples\n",
    "training_split_n_y = math.ceil(0.6*data_n_y_shape[0])\n",
    "validation_split_n_y = math.floor(data_n_y_shape[0]*0.2)\n",
    "\n",
    "training_samples_n_y = pd.DataFrame(data_n_y.iloc[0:training_split_n_y])\n",
    "validation_samples_n_y = pd.DataFrame(data_n_y.iloc[training_split_n_y: training_split_n_y + validation_split_n_y])\n",
    "testing_samples_n_y = pd.DataFrame(data_n_y.iloc[(training_split_n_y + validation_split_n_y):])\n",
    "\n",
    "print(\"training_n_y samples size = \", training_samples_n_y.shape)\n",
    "print(\"validation_n_y samples size = \", validation_samples_n_y.shape)\n",
    "print(\"testing_n_y samples size = \", testing_samples_n_y.shape)\n",
    "\n",
    "#N-N samples\n",
    "training_split_n_n = math.ceil(0.6*data_n_n_shape[0])\n",
    "validation_split_n_n = math.floor(data_n_n_shape[0]*0.2)\n",
    "\n",
    "training_samples_n_n = pd.DataFrame(data_n_n.iloc[0:training_split_n_n])\n",
    "validation_samples_n_n = pd.DataFrame(data_n_n.iloc[training_split_n_n: training_split_n_n + validation_split_n_n])\n",
    "testing_samples_n_n = pd.DataFrame(data_n_n.iloc[(training_split_n_n + validation_split_n_n):])\n",
    "\n",
    "print(\"training_n_n samples size = \", training_samples_n_n.shape)\n",
    "print(\"validation_n_n samples size = \", validation_samples_n_n.shape)\n",
    "print(\"testing_n_n samples size = \", testing_samples_n_n.shape)"
   ]
  },
  {
   "cell_type": "code",
   "execution_count": 6,
   "id": "3639e704-06e1-4942-b4d2-baee038c6105",
   "metadata": {
    "colab": {
     "base_uri": "https://localhost:8080/"
    },
    "id": "3639e704-06e1-4942-b4d2-baee038c6105",
    "outputId": "b683a3f1-36fa-49d4-80d2-6c278f1043c4"
   },
   "outputs": [
    {
     "name": "stdout",
     "output_type": "stream",
     "text": [
      "Size of training data =  (1237, 3)\n",
      "Size of validation data =  (411, 3)\n",
      "Size of testing data =  (412, 3)\n"
     ]
    },
    {
     "name": "stderr",
     "output_type": "stream",
     "text": [
      "/local_scratch/pbs.484873.pbs02/ipykernel_3937719/393655029.py:2: FutureWarning: The frame.append method is deprecated and will be removed from pandas in a future version. Use pandas.concat instead.\n",
      "  training_samples = training_samples_y_n.append(training_samples_n_y, ignore_index=True)\n",
      "/local_scratch/pbs.484873.pbs02/ipykernel_3937719/393655029.py:3: FutureWarning: The frame.append method is deprecated and will be removed from pandas in a future version. Use pandas.concat instead.\n",
      "  training_samples = training_samples.append(training_samples_n_n, ignore_index=True)\n",
      "/local_scratch/pbs.484873.pbs02/ipykernel_3937719/393655029.py:11: FutureWarning: The frame.append method is deprecated and will be removed from pandas in a future version. Use pandas.concat instead.\n",
      "  validation_samples = validation_samples_y_n.append(validation_samples_n_y, ignore_index=True)\n",
      "/local_scratch/pbs.484873.pbs02/ipykernel_3937719/393655029.py:12: FutureWarning: The frame.append method is deprecated and will be removed from pandas in a future version. Use pandas.concat instead.\n",
      "  validation_samples = validation_samples.append(validation_samples_n_n, ignore_index=True)\n",
      "/local_scratch/pbs.484873.pbs02/ipykernel_3937719/393655029.py:20: FutureWarning: The frame.append method is deprecated and will be removed from pandas in a future version. Use pandas.concat instead.\n",
      "  testing_samples = testing_samples_y_n.append(testing_samples_n_y, ignore_index=True)\n",
      "/local_scratch/pbs.484873.pbs02/ipykernel_3937719/393655029.py:21: FutureWarning: The frame.append method is deprecated and will be removed from pandas in a future version. Use pandas.concat instead.\n",
      "  testing_samples = testing_samples.append(testing_samples_n_n, ignore_index=True)\n"
     ]
    }
   ],
   "source": [
    "#Training samples\n",
    "training_samples = training_samples_y_n.append(training_samples_n_y, ignore_index=True)\n",
    "training_samples = training_samples.append(training_samples_n_n, ignore_index=True)\n",
    "#Shuffling the data set\n",
    "training_samples = training_samples.sample(n = training_samples.shape[0], axis=0)\n",
    "print(\"Size of training data = \", training_samples.shape)\n",
    "training_labels = [[1 if training_samples.iloc[row][1] == \"Yes\" else 0, \n",
    "                    1 if training_samples.iloc[row][2] == \"Yes\" else 0] for row in range(training_samples.shape[0])]\n",
    "\n",
    "#Validation samples\n",
    "validation_samples = validation_samples_y_n.append(validation_samples_n_y, ignore_index=True)\n",
    "validation_samples = validation_samples.append(validation_samples_n_n, ignore_index=True)\n",
    "#Shuffling the data set\n",
    "validation_samples = validation_samples.sample(n = validation_samples.shape[0], axis=0)\n",
    "print(\"Size of validation data = \", validation_samples.shape)\n",
    "validation_labels = [[1 if validation_samples.iloc[row][1] == \"Yes\" else 0, \n",
    "                      1 if validation_samples.iloc[row][2] == \"Yes\" else 0] for row in range(validation_samples.shape[0])]\n",
    "\n",
    "#Testing samples\n",
    "testing_samples = testing_samples_y_n.append(testing_samples_n_y, ignore_index=True)\n",
    "testing_samples = testing_samples.append(testing_samples_n_n, ignore_index=True)\n",
    "#Shuffling the data set\n",
    "testing_samples = testing_samples.sample(n = testing_samples.shape[0], axis=0)\n",
    "print(\"Size of testing data = \", testing_samples.shape)\n",
    "testing_labels = [[1 if testing_samples.iloc[row][1] == \"Yes\" else 0, \n",
    "                   1 if testing_samples.iloc[row][2] == \"Yes\" else 0] for row in range(testing_samples.shape[0])]\n"
   ]
  },
  {
   "cell_type": "code",
   "execution_count": 7,
   "id": "cfa66386-c820-491b-b84b-421ed1c8fbd1",
   "metadata": {},
   "outputs": [
    {
     "name": "stdout",
     "output_type": "stream",
     "text": [
      "Are there any null values in training samples =  False\n",
      "Are there any null values in validation samples =  False\n",
      "Are there any null values in testing samples =  False\n"
     ]
    }
   ],
   "source": [
    "#Checking if the datasets contain any null values\n",
    "print(\"Are there any null values in training samples = \", training_samples.isnull().values.any())\n",
    "print(\"Are there any null values in validation samples = \", validation_samples.isnull().values.any())\n",
    "print(\"Are there any null values in testing samples = \", testing_samples.isnull().values.any())"
   ]
  },
  {
   "cell_type": "code",
   "execution_count": 10,
   "id": "DuXUFVEQNoTB",
   "metadata": {
    "colab": {
     "base_uri": "https://localhost:8080/"
    },
    "id": "DuXUFVEQNoTB",
    "outputId": "e1a71f09-6802-4cc4-b485-26ef0893c415"
   },
   "outputs": [
    {
     "name": "stdout",
     "output_type": "stream",
     "text": [
      "<class 'nibabel.nifti1.Nifti1Header'> object, endian='<'\n",
      "sizeof_hdr      : 348\n",
      "data_type       : b''\n",
      "db_name         : b''\n",
      "extents         : 16384\n",
      "session_error   : 0\n",
      "regular         : b'r'\n",
      "dim_info        : 0\n",
      "dim             : [  3 256 256 150   1   0   0   0]\n",
      "intent_p1       : 0.0\n",
      "intent_p2       : 0.0\n",
      "intent_p3       : 0.0\n",
      "intent_code     : none\n",
      "datatype        : int16\n",
      "bitpix          : 16\n",
      "slice_start     : 0\n",
      "pixdim          : [1.       0.9375   0.9375   1.200002 1.       1.       1.       1.      ]\n",
      "vox_offset      : 0.0\n",
      "scl_slope       : nan\n",
      "scl_inter       : nan\n",
      "slice_end       : 0\n",
      "slice_code      : unknown\n",
      "xyzt_units      : 2\n",
      "cal_max         : 0.0\n",
      "cal_min         : 0.0\n",
      "slice_duration  : 0.0\n",
      "toffset         : 0.0\n",
      "glmax           : 32767\n",
      "glmin           : 0\n",
      "descrip         : b'bse -n 3 -d 25 -s 0.84 -r 2 -i ixi_dataset/IXI156-Guys-0837-T1.nii.gz'\n",
      "aux_file        : b''\n",
      "qform_code      : scanner\n",
      "sform_code      : scanner\n",
      "quatern_b       : 0.4382675\n",
      "quatern_c       : 0.47557345\n",
      "quatern_d       : -0.46727434\n",
      "qoffset_x       : -97.93478\n",
      "qoffset_y       : 114.60675\n",
      "qoffset_z       : -92.444275\n",
      "srow_x          : [ 7.6416098e-02 -1.6447876e-02  1.1958237e+00 -9.7934776e+01]\n",
      "srow_y          : [-9.3438047e-01 -1.3451996e-03  9.7797610e-02  1.1460675e+02]\n",
      "srow_z          : [-4.8894847e-08  9.3735468e-01  2.1123609e-02 -9.2444275e+01]\n",
      "intent_name     : b''\n",
      "magic           : b'n+1'\n"
     ]
    }
   ],
   "source": [
    "path = \"files/\"\n",
    "extension = \".gz\"\n",
    "image = nib.load(os.path.join(path, training_samples.iloc[0][0] + extension))\n",
    "print(image.header)"
   ]
  },
  {
   "attachments": {},
   "cell_type": "markdown",
   "id": "45a6e24e-ea8e-464c-b2c1-7c8f3ba9a5e8",
   "metadata": {
    "id": "45a6e24e-ea8e-464c-b2c1-7c8f3ba9a5e8"
   },
   "source": [
    "Visualizing the data."
   ]
  },
  {
   "cell_type": "code",
   "execution_count": 37,
   "id": "fkNQCy78VJ7C",
   "metadata": {
    "colab": {
     "base_uri": "https://localhost:8080/",
     "height": 239
    },
    "id": "fkNQCy78VJ7C",
    "outputId": "9bbd8fda-8b77-4989-ee8e-8d6c5cf3009e"
   },
   "outputs": [
    {
     "data": {
      "image/png": "[encoded data removed]",
      "text/plain": [
       "<Figure size 1440x1440 with 4 Axes>"
      ]
     },
     "metadata": {
      "needs_background": "light"
     },
     "output_type": "display_data"
    }
   ],
   "source": [
    "#Load the image\n",
    "import matplotlib.pyplot as plt\n",
    "import numpy as np\n",
    "\n",
    "path = \"files/\"\n",
    "extension = \".gz\"\n",
    "for row in range(training_samples.shape[0]):\n",
    "    image = nib.load(os.path.join(path, training_samples.iloc[row][0] + extension))\n",
    "    image_array = image.get_fdata()\n",
    "    image_array = image_array/255\n",
    "    \n",
    "    for i in range(1,5):\n",
    "        plt.subplot(5, 5,i + 1)\n",
    "        plt.imshow(image_array[:,:,(70)])\n",
    "        plt.gcf().set_size_inches(20, 20)\n",
    "    plt.show()\n",
    "    break\n",
    "    "
   ]
  },
  {
   "cell_type": "code",
   "execution_count": 9,
   "id": "f33929c8-931b-41c4-bf7a-71d566e724fb",
   "metadata": {
    "id": "f33929c8-931b-41c4-bf7a-71d566e724fb"
   },
   "outputs": [],
   "source": [
    "import torch\n",
    "from torch.utils.data import Dataset\n",
    "import numpy as np\n",
    "\n",
    "#Creating custom dataset class\n",
    "class CustomDataset(Dataset):\n",
    "    def __init__(self, data):\n",
    "        self.data = data\n",
    "        self.path = \"files/\"\n",
    "        self.extension = \".gz\"\n",
    "        self.device = 'cuda' if torch.cuda.is_available() else 'cpu'\n",
    "\n",
    "    def __len__(self):\n",
    "        return self.data.shape[0]\n",
    "\n",
    "    def __getitem__(self, idx):  \n",
    "        image = nib.load(os.path.join(self.path, self.data.iloc[idx][0] + self.extension)).get_fdata()\n",
    "        #Preprocessing - scaling image pixel values to 0-1 by performing Min-Max normalization.\n",
    "        max_pixel = np.amax(image)\n",
    "        min_pixel = np.amin(image)\n",
    "        image = (image - min_pixel) / (max_pixel - min_pixel)\n",
    "        #Extracting the first 130 channels as they have most important information. \n",
    "        image = image[:,:,0:64]\n",
    "        image = torch.tensor(image, dtype=torch.float64, device='cuda')\n",
    "        #Expanding the dimensions of the image. Converting (x,x,x) to  (x,x,x,1)\n",
    "        image = torch.unsqueeze(image, 3)\n",
    "        image = torch.reshape(image, (image.shape[3], image.shape[2], image.shape[0], image.shape[1]))\n",
    "\n",
    "        label_1 = 1 if self.data.iloc[idx][1] == \"Yes\" else 0 \n",
    "        label_1 = torch.tensor(label_1, device = self.device, dtype=torch.float64)\n",
    "        label_2 = 1 if self.data.iloc[idx][2] == \"Yes\" else 0\n",
    "        label_2 = torch.tensor(label_2, device = self.device, dtype=torch.float64)\n",
    "    \n",
    "        return image, label_1, label_2"
   ]
  },
  {
   "cell_type": "code",
   "execution_count": 27,
   "id": "a019d9df-6c40-44f7-b6bf-03ce500c207d",
   "metadata": {
    "id": "a019d9df-6c40-44f7-b6bf-03ce500c207d"
   },
   "outputs": [],
   "source": [
    "import torch\n",
    "import torchsummary\n",
    "from torch import nn\n",
    "from torchsummary import summary\n",
    "\n",
    "\n",
    "#Model\n",
    "class Model(nn.Module):\n",
    "    def __init__(self):\n",
    "        super(Model, self).__init__()\n",
    "        device = 'cuda' if torch.cuda.is_available() else 'cpu'\n",
    "        self.layers = nn.Sequential(\n",
    "            nn.Conv3d(in_channels = 1, out_channels = 5, kernel_size = (3, 3, 3), stride = 2, padding = 0, bias = True, device=device, dtype=torch.float64),\n",
    "            nn.ReLU(inplace=False),\n",
    "            nn.MaxPool3d(kernel_size = 3, stride = 2),\n",
    "            nn.BatchNorm3d(5, device=device, dtype=torch.float64),\n",
    "            \n",
    "            nn.Conv3d(in_channels = 5, out_channels = 3, kernel_size = (3, 3, 3), stride = 1, padding = 0, bias = True, device=device, dtype=torch.float64),\n",
    "            nn.ReLU(inplace=False),\n",
    "            nn.MaxPool3d(kernel_size = 3, stride = 2),\n",
    "            nn.BatchNorm3d(3, device=device, dtype=torch.float64),\n",
    "            \n",
    "            nn.Conv3d(in_channels = 3, out_channels = 2, kernel_size = (3, 3, 3), stride = 1, padding = 0, bias = True, device=device, dtype=torch.float64),\n",
    "            nn.ReLU(inplace=False),\n",
    "            nn.MaxPool3d(kernel_size = 3, stride = 2),\n",
    "            nn.BatchNorm3d(2, device=device, dtype=torch.float64),\n",
    "    \n",
    "            nn.Flatten(),\n",
    "\n",
    "            nn.Linear(in_features = 338, out_features = 9, bias = True, device = 'cuda', dtype=torch.float64),\n",
    "            # nn.Linear(in_features = 30, out_features = 9, bias = True, device = 'cuda', dtype=torch.float64),\n",
    "            nn.Linear(in_features = 9, out_features = 2, bias = True, device = 'cuda', dtype=torch.float64),\n",
    "            nn.Sigmoid()\n",
    "        )\n",
    "        \n",
    "    def forward(self, input_image):\n",
    "        return self.layers(input_image)"
   ]
  },
  {
   "cell_type": "code",
   "execution_count": 26,
   "id": "UioIv_TaL37N",
   "metadata": {
    "colab": {
     "base_uri": "https://localhost:8080/"
    },
    "id": "UioIv_TaL37N",
    "outputId": "36488554-fd5f-426f-d998-eb9d86917ab0"
   },
   "outputs": [
    {
     "name": "stdout",
     "output_type": "stream",
     "text": [
      "==========================================================================================\n",
      "Layer (type:depth-idx)                   Output Shape              Param #\n",
      "==========================================================================================\n",
      "├─Conv3d: 1-1                            [-1, 5, 31, 127, 127]     140\n",
      "├─ReLU: 1-2                              [-1, 5, 31, 127, 127]     --\n",
      "├─MaxPool3d: 1-3                         [-1, 5, 15, 63, 63]       --\n",
      "├─BatchNorm3d: 1-4                       [-1, 5, 15, 63, 63]       10\n",
      "├─Conv3d: 1-5                            [-1, 3, 13, 61, 61]       408\n",
      "├─ReLU: 1-6                              [-1, 3, 13, 61, 61]       --\n",
      "├─MaxPool3d: 1-7                         [-1, 3, 6, 30, 30]        --\n",
      "├─BatchNorm3d: 1-8                       [-1, 3, 6, 30, 30]        6\n",
      "├─Conv3d: 1-9                            [-1, 2, 4, 28, 28]        164\n",
      "├─ReLU: 1-10                             [-1, 2, 4, 28, 28]        --\n",
      "├─MaxPool3d: 1-11                        [-1, 2, 1, 13, 13]        --\n",
      "├─BatchNorm3d: 1-12                      [-1, 2, 1, 13, 13]        4\n",
      "├─Flatten: 1-13                          [-1, 338]                 --\n",
      "├─Linear: 1-14                           [-1, 9]                   3,051\n",
      "├─Linear: 1-15                           [-1, 2]                   20\n",
      "├─Sigmoid: 1-16                          [-1, 2]                   --\n",
      "==========================================================================================\n",
      "Total params: 3,803\n",
      "Trainable params: 3,803\n",
      "Non-trainable params: 0\n",
      "Total mult-adds (M): 87.60\n",
      "==========================================================================================\n",
      "Input size (MB): 16.00\n",
      "Forward/backward pass size (MB): 22.63\n",
      "Params size (MB): 0.01\n",
      "Estimated Total Size (MB): 38.64\n",
      "==========================================================================================\n"
     ]
    },
    {
     "data": {
      "text/plain": [
       "==========================================================================================\n",
       "Layer (type:depth-idx)                   Output Shape              Param #\n",
       "==========================================================================================\n",
       "├─Conv3d: 1-1                            [-1, 5, 31, 127, 127]     140\n",
       "├─ReLU: 1-2                              [-1, 5, 31, 127, 127]     --\n",
       "├─MaxPool3d: 1-3                         [-1, 5, 15, 63, 63]       --\n",
       "├─BatchNorm3d: 1-4                       [-1, 5, 15, 63, 63]       10\n",
       "├─Conv3d: 1-5                            [-1, 3, 13, 61, 61]       408\n",
       "├─ReLU: 1-6                              [-1, 3, 13, 61, 61]       --\n",
       "├─MaxPool3d: 1-7                         [-1, 3, 6, 30, 30]        --\n",
       "├─BatchNorm3d: 1-8                       [-1, 3, 6, 30, 30]        6\n",
       "├─Conv3d: 1-9                            [-1, 2, 4, 28, 28]        164\n",
       "├─ReLU: 1-10                             [-1, 2, 4, 28, 28]        --\n",
       "├─MaxPool3d: 1-11                        [-1, 2, 1, 13, 13]        --\n",
       "├─BatchNorm3d: 1-12                      [-1, 2, 1, 13, 13]        4\n",
       "├─Flatten: 1-13                          [-1, 338]                 --\n",
       "├─Linear: 1-14                           [-1, 9]                   3,051\n",
       "├─Linear: 1-15                           [-1, 2]                   20\n",
       "├─Sigmoid: 1-16                          [-1, 2]                   --\n",
       "==========================================================================================\n",
       "Total params: 3,803\n",
       "Trainable params: 3,803\n",
       "Non-trainable params: 0\n",
       "Total mult-adds (M): 87.60\n",
       "==========================================================================================\n",
       "Input size (MB): 16.00\n",
       "Forward/backward pass size (MB): 22.63\n",
       "Params size (MB): 0.01\n",
       "Estimated Total Size (MB): 38.64\n",
       "=========================================================================================="
      ]
     },
     "execution_count": 26,
     "metadata": {},
     "output_type": "execute_result"
    }
   ],
   "source": [
    "device = 'cuda' if torch.cuda.is_available() else 'cpu'\n",
    "model = nn.Sequential(\n",
    "            nn.Conv3d(in_channels = 1, out_channels = 5, kernel_size = (3, 3, 3), stride = 2, padding = 0, bias = True, device=device, dtype=torch.float64),\n",
    "            nn.ReLU(inplace=False),\n",
    "            nn.MaxPool3d(kernel_size = 3, stride = 2),\n",
    "            nn.BatchNorm3d(5, device=device, dtype=torch.float64),\n",
    "            \n",
    "            nn.Conv3d(in_channels = 5, out_channels = 3, kernel_size = (3, 3, 3), stride = 1, padding = 0, bias = True, device=device, dtype=torch.float64),\n",
    "            nn.ReLU(inplace=False),\n",
    "            nn.MaxPool3d(kernel_size = 3, stride = 2),\n",
    "            nn.BatchNorm3d(3, device=device, dtype=torch.float64),\n",
    "            \n",
    "            nn.Conv3d(in_channels = 3, out_channels = 2, kernel_size = (3, 3, 3), stride = 1, padding = 0, bias = True, device=device, dtype=torch.float64),\n",
    "            nn.ReLU(inplace=False),\n",
    "            nn.MaxPool3d(kernel_size = 3, stride = 2),\n",
    "            nn.BatchNorm3d(2, device=device, dtype=torch.float64),\n",
    "    \n",
    "            # nn.Conv3d(in_channels = 3, out_channels = 2, kernel_size = (3, 3, 3), stride = 1, padding = 0, bias = True, device=device, dtype=torch.float64),\n",
    "            # nn.ReLU(inplace=False),\n",
    "            # nn.MaxPool3d(kernel_size = 3, stride = 2),\n",
    "            # nn.BatchNorm3d(2, device=device, dtype=torch.float64),\n",
    "    \n",
    "            nn.Flatten(),\n",
    "\n",
    "            nn.Linear(in_features = 338, out_features = 9, bias = True, device = 'cuda', dtype=torch.float64),\n",
    "            # nn.Linear(in_features = 30, out_features = 9, bias = True, device = 'cuda', dtype=torch.float64),\n",
    "            nn.Linear(in_features = 9, out_features = 2, bias = True, device = 'cuda', dtype=torch.float64),\n",
    "            nn.Sigmoid()\n",
    "        )\n",
    "\n",
    "summary(model, (1, 64,256,256), dtypes=[torch.float64])"
   ]
  },
  {
   "cell_type": "code",
   "execution_count": 11,
   "id": "nxRzjwhWc3yH",
   "metadata": {
    "id": "nxRzjwhWc3yH"
   },
   "outputs": [],
   "source": [
    "from tabulate import tabulate\n",
    "\n",
    "def tabulate_epoch_meter(elapsed_time, acc, loss, metrics = None):\n",
    "    \"\"\" Tabulate total average value of meters every epoch.\n",
    "\n",
    "    Args:\n",
    "        eplased_time (float): The elapsed time of a epoch.\n",
    "        meter_list (list or tuple of AverageMeter): A list of meters.\n",
    "    \"\"\"\n",
    "    epoch_metric = {}\n",
    "    epoch_metric[\"Accuracy\"] = [acc]\n",
    "    epoch_metric[\"loss\"] = [loss]\n",
    "    epoch_metric[\"time\"] = [elapsed_time]\n",
    "    table = tabulate(epoch_metric, headers=\"keys\", tablefmt=\"github\", floatfmt=\".5f\")\n",
    "    table = table.split(\"\\n\")\n",
    "    table = \"\\n\".join([table[1]] + table)\n",
    "    print(table)\n",
    "    if metrics != None:\n",
    "        headers = [\"sensitivity_ff\", \"sensitivity_bl\", \"specificity_ff\", \"specificity_bl\"]\n",
    "        print(tabulate(metrics.items(), headers = headers))"
   ]
  },
  {
   "cell_type": "code",
   "execution_count": 13,
   "id": "DWWamRNlhM-1",
   "metadata": {
    "id": "DWWamRNlhM-1"
   },
   "outputs": [],
   "source": [
    "def cal_acc(actual, predicted):\n",
    "    if len(actual) != len(predicted):\n",
    "        print(\"[ERROR] actual and predicted doesn't have same shape\")\n",
    "        return\n",
    "    \n",
    "    correctly_predicted_recog_facial_features = [actual[row][0]==predicted[row][0] for row in range(len(actual))]\n",
    "    correctly_predicted_brain_feature_loss = [actual[row][1]==predicted[row][1] for row in range(len(actual))]\n",
    "    \n",
    "    facial_features_acc = (sum(correctly_predicted_recog_facial_features) / len(actual)) * 100\n",
    "    brain_loss_acc = (sum(correctly_predicted_brain_feature_loss) / len(actual)) * 100\n",
    "    return (facial_features_acc, brain_loss_acc) "
   ]
  },
  {
   "cell_type": "code",
   "execution_count": 14,
   "id": "72d45d31-de96-41ae-8d5c-3016a84a6405",
   "metadata": {},
   "outputs": [],
   "source": [
    "\n",
    "def cal_confusion_matrices(actual, predicted):\n",
    "    if len(actual) != len(predicted):\n",
    "        print(\"[ERROR] actual and predicted doesn't have same shape\")\n",
    "        return\n",
    "    \n",
    "    confusion_matrics_ff = torch.zeros(2, 2)\n",
    "    confusion_matrics_bl = torch.zeros(2, 2)\n",
    "    \n",
    "    for row in range(len(actual)):\n",
    "        row = predicted[row][0]\n",
    "        col = actual[row][0]\n",
    "        confusion_matrics_ff[row][col] = confusion_matrics_ff[row][col] + 1\n",
    "        \n",
    "        row = predicted[row][1]\n",
    "        col = actual[row][1]\n",
    "        confusion_matrics_bl[row][col] = confusion_matrics_bl[row][col] + 1\n",
    "        \n",
    "    return {\"confusion_matrics_ff\": confusion_matrics_ff, \"confusion_matrics_bl\": confusion_matrics_bl}\n",
    "        "
   ]
  },
  {
   "cell_type": "code",
   "execution_count": 15,
   "id": "f433f999-c6e3-4e58-9c9f-1f923e1cbf9a",
   "metadata": {},
   "outputs": [],
   "source": [
    "def cal_sensitivity(confusion_matrix):\n",
    "    return (confusion_matrix[0][0]) / (confusion_matrix[0][0] + confusion_matrix[0][1])"
   ]
  },
  {
   "cell_type": "code",
   "execution_count": 16,
   "id": "ab4c8eec-ec4e-4156-9409-4f6c46251c56",
   "metadata": {},
   "outputs": [],
   "source": [
    "def cal_specificity(confusion_matrix):\n",
    "    return (confusion_matrix[1][1]) / (confusion_matrix[1][0] + confusion_matrix[1][1])"
   ]
  },
  {
   "cell_type": "code",
   "execution_count": 17,
   "id": "914315c3-7689-480f-8c75-3d7992ffa637",
   "metadata": {},
   "outputs": [],
   "source": [
    "def unpack_labels(label_1, label_2):\n",
    "    labels = []\n",
    "    for row in range(len(label_1)):\n",
    "        labels.append([label_1[row], label_2[row]])\n",
    "  \n",
    "    return labels"
   ]
  },
  {
   "cell_type": "code",
   "execution_count": 18,
   "id": "3a2a6ad9-8ea6-488f-9828-5ace9969140f",
   "metadata": {},
   "outputs": [],
   "source": [
    "def save_checkpoint(state, epochs):\n",
    "    filepath = \"Model/model_after_\" + str(epochs) + \"_epochs.tar\"\n",
    "    torch.save(state, filepath)\n",
    "    print('[info] Finish saving the model')"
   ]
  },
  {
   "cell_type": "markdown",
   "id": "EZIy9UMcYuJt",
   "metadata": {
    "id": "EZIy9UMcYuJt"
   },
   "source": [
    "Training the model\n"
   ]
  },
  {
   "cell_type": "code",
   "execution_count": 19,
   "id": "4a477109-078a-4612-89d1-b0064c910688",
   "metadata": {},
   "outputs": [],
   "source": [
    "training_accuracies = []\n",
    "validation_accuracies = []\n",
    "training_losses = []\n",
    "validation_losses = []"
   ]
  },
  {
   "cell_type": "code",
   "execution_count": 20,
   "id": "16828e52-9e8e-4731-8c52-7a8165461690",
   "metadata": {
    "id": "16828e52-9e8e-4731-8c52-7a8165461690"
   },
   "outputs": [],
   "source": [
    "def train(model, train_loader, optimizer) :\n",
    "    predicted_val = []\n",
    "    device = 'cuda' if torch.cuda.is_available() else 'cpu'\n",
    "    model.train() \n",
    "    \n",
    "    for batch_idx, batch in enumerate(train_loader):\n",
    "        image = batch[0]\n",
    "        label_1 = batch[1]\n",
    "        label_2 = batch[2]\n",
    "        labels = unpack_labels(label_1, label_2)\n",
    "        labels = torch.tensor(labels, device=device, dtype = torch.float64)\n",
    "\n",
    "        y_pred = model(image)\n",
    "        #print(\"len of y_pred = \", len(y_pred))\n",
    "        \n",
    "        binary_crossentropy_loss = nn.BCELoss()\n",
    "        loss = binary_crossentropy_loss(y_pred, labels)\n",
    "        optimizer.zero_grad()\n",
    "        loss.backward()\n",
    "        optimizer.step()\n",
    "\n",
    "        #Check the threshold\n",
    "        for row in range(len(y_pred)):\n",
    "            pred_lables = []\n",
    "            if y_pred[row][0] >= 0.4:\n",
    "                pred_lables.append(1)\n",
    "            else:\n",
    "                pred_lables.append(0)\n",
    "            if y_pred[row][1] >= 0.4:\n",
    "                pred_lables.append(1)\n",
    "            else:\n",
    "                pred_lables.append(0)\n",
    "            predicted_val.append(pred_lables)\n",
    "\n",
    "    return predicted_val, loss"
   ]
  },
  {
   "cell_type": "code",
   "execution_count": 21,
   "id": "MHsGmW8Xj1BA",
   "metadata": {
    "id": "MHsGmW8Xj1BA"
   },
   "outputs": [],
   "source": [
    "def test(model, val_loader):\n",
    "    device = 'cuda' if torch.cuda.is_available() else 'cpu'\n",
    "\n",
    "    model.eval()\n",
    "    loss = []\n",
    "    predicted_val = []\n",
    "    start_time = time.time()\n",
    "    for batch_idx, batch in enumerate(val_loader):\n",
    "        image = batch[0]\n",
    "        label_1 = batch[1]\n",
    "        label_2 = batch[2]\n",
    "        labels = unpack_labels(label_1, label_2)\n",
    "        labels = torch.tensor(labels, device=device, dtype = torch.float64)\n",
    "    \n",
    "        with torch.no_grad():\n",
    "            y_pred = model(image)\n",
    "            binary_crossentropy_loss = nn.BCELoss()\n",
    "            loss_ = binary_crossentropy_loss(y_pred, labels)\n",
    "            loss.append(loss_)\n",
    "\n",
    "        #Check the threshold\n",
    "        for row in range(len(y_pred)):\n",
    "            pred_lables = []\n",
    "            if y_pred[row][0] >= 0.4:\n",
    "                pred_lables.append(1)\n",
    "            else:\n",
    "                pred_lables.append(0)\n",
    "            if y_pred[0][1] >= 0.4:\n",
    "                pred_lables.append(1)\n",
    "            else:\n",
    "                pred_lables.append(0)\n",
    "            predicted_val.append(pred_lables)\n",
    "\n",
    "    acc = cal_acc(validation_labels, predicted_val)\n",
    "    validation_accuracies.append(acc)\n",
    "    validation_losses.append(sum(loss)/len(loss))\n",
    "    \n",
    "    conf_matrices = cal_confusion_matrices(validation_labels, predicted_val)\n",
    "    \n",
    "    sensitivity_ff = cal_sensitivity(conf_matrices['confusion_matrics_ff'])\n",
    "    sensitivity_bl = cal_sensitivity(conf_matrices['confusion_matrics_bl'])\n",
    "    \n",
    "    specificity_ff = cal_specificity(conf_matrices['confusion_matrics_ff'])\n",
    "    specificity_bl = cal_specificity(conf_matrices['confusion_matrics_bl'])\n",
    "    \n",
    "    metrics = {'sensitivity_ff': sensitivity_ff,\n",
    "               'sensitivity_bl': sensitivity_bl,\n",
    "               'specificity_ff': specificity_ff,\n",
    "               'specificity_bl': specificity_bl}\n",
    "    \n",
    "    print(\"-----Validation accuracy and avg loss are-----\")\n",
    "    tabulate_epoch_meter(time.time() - start_time, acc, sum(loss)/len(loss), metrics)\n",
    "\n"
   ]
  },
  {
   "cell_type": "code",
   "execution_count": 28,
   "id": "OSJ0vkDdghyl",
   "metadata": {
    "colab": {
     "base_uri": "https://localhost:8080/",
     "height": 493
    },
    "id": "OSJ0vkDdghyl",
    "outputId": "0b015942-f76a-48bc-a375-34dc224df422"
   },
   "outputs": [
    {
     "name": "stdout",
     "output_type": "stream",
     "text": [
      "-----Starting Epoch-0-----\n",
      "|---------------------------------------|---------|-----------|\n",
      "| Accuracy                              |    loss |      time |\n",
      "|---------------------------------------|---------|-----------|\n",
      "| (44.78577202910267, 64.6725949878739) | 0.55963 | 186.01925 |\n",
      "-----Starting validating the model-----\n",
      "-----Validation accuracy and avg loss are-----\n",
      "|----------------------------------------|---------|----------|\n",
      "| Accuracy                               |    loss |     time |\n",
      "|----------------------------------------|---------|----------|\n",
      "| (34.54987834549878, 64.72019464720195) | 0.67466 | 60.71592 |\n",
      "sensitivity_ff      sensitivity_bl\n",
      "----------------  ----------------\n",
      "sensitivity_ff                 nan\n",
      "sensitivity_bl                 nan\n",
      "specificity_ff                   0\n",
      "specificity_bl                   1\n",
      "-----Starting Epoch-1-----\n",
      "|---------------------------------------|---------|-----------|\n",
      "| Accuracy                              |    loss |      time |\n",
      "|---------------------------------------|---------|-----------|\n",
      "| (69.2805173807599, 65.64268391269201) | 0.45191 | 434.17328 |\n",
      "-----Starting Epoch-2-----\n",
      "|----------------------------------------|---------|-----------|\n",
      "| Accuracy                               |    loss |      time |\n",
      "|----------------------------------------|---------|-----------|\n",
      "| (89.57154405820533, 74.85852869846403) | 0.34101 | 620.21121 |\n",
      "-----Starting Epoch-3-----\n",
      "|----------------------------------------|---------|-----------|\n",
      "| Accuracy                               |    loss |      time |\n",
      "|----------------------------------------|---------|-----------|\n",
      "| (97.41309620048504, 87.63136620856912) | 0.24423 | 807.94111 |\n",
      "-----Starting Epoch-4-----\n",
      "|----------------------------------------|---------|-----------|\n",
      "| Accuracy                               |    loss |      time |\n",
      "|----------------------------------------|---------|-----------|\n",
      "| (98.54486661277284, 92.40097008892482) | 0.17438 | 995.35435 |\n",
      "-----Starting Epoch-5-----\n",
      "|----------------------------------------|---------|------------|\n",
      "| Accuracy                               |    loss |       time |\n",
      "|----------------------------------------|---------|------------|\n",
      "| (98.86822958771221, 94.17946645109136) | 0.12596 | 1182.72641 |\n",
      "-----Starting Epoch-6-----\n",
      "|----------------------------------------|---------|------------|\n",
      "| Accuracy                               |    loss |       time |\n",
      "|----------------------------------------|---------|------------|\n",
      "| (99.02991107518189, 96.44300727566694) | 0.09318 | 1370.64077 |\n",
      "-----Starting Epoch-7-----\n",
      "|---------------------------------------|---------|------------|\n",
      "| Accuracy                              |    loss |       time |\n",
      "|---------------------------------------|---------|------------|\n",
      "| (99.19159256265158, 97.8981406628941) | 0.07153 | 1558.04678 |\n",
      "-----Starting Epoch-8-----\n",
      "|----------------------------------------|---------|------------|\n",
      "| Accuracy                               |    loss |       time |\n",
      "|----------------------------------------|---------|------------|\n",
      "| (99.51495553759095, 98.14066289409863) | 0.05753 | 1745.19690 |\n",
      "-----Starting Epoch-9-----\n",
      "|---------------------------------------|---------|------------|\n",
      "| Accuracy                              |    loss |       time |\n",
      "|---------------------------------------|---------|------------|\n",
      "| (99.59579628132579, 98.3023443815683) | 0.04796 | 1932.64798 |\n",
      "-----Starting Epoch-10-----\n",
      "|----------------------------------------|---------|------------|\n",
      "| Accuracy                               |    loss |       time |\n",
      "|----------------------------------------|---------|------------|\n",
      "| (99.59579628132579, 98.54486661277284) | 0.04104 | 2119.93034 |\n",
      "-----Starting validating the model-----\n",
      "-----Validation accuracy and avg loss are-----\n",
      "|----------------------------------------|---------|----------|\n",
      "| Accuracy                               |    loss |     time |\n",
      "|----------------------------------------|---------|----------|\n",
      "| (93.67396593673966, 48.41849148418492) | 0.16246 | 56.01288 |\n",
      "sensitivity_ff      sensitivity_bl\n",
      "----------------  ----------------\n",
      "sensitivity_ff                   0\n",
      "sensitivity_bl                   1\n",
      "specificity_ff                   0\n",
      "specificity_bl                 nan\n",
      "-----Starting Epoch-11-----\n",
      "|----------------------------------------|---------|------------|\n",
      "| Accuracy                               |    loss |       time |\n",
      "|----------------------------------------|---------|------------|\n",
      "| (99.59579628132579, 98.70654810024251) | 0.03598 | 2363.52128 |\n",
      "-----Starting Epoch-12-----\n",
      "|----------------------------------------|---------|------------|\n",
      "| Accuracy                               |    loss |       time |\n",
      "|----------------------------------------|---------|------------|\n",
      "| (99.59579628132579, 98.78738884397737) | 0.03182 | 2551.10566 |\n",
      "-----Starting Epoch-13-----\n",
      "|----------------------------------------|---------|------------|\n",
      "| Accuracy                               |    loss |       time |\n",
      "|----------------------------------------|---------|------------|\n",
      "| (99.59579628132579, 98.86822958771221) | 0.02855 | 2738.90562 |\n",
      "-----Starting Epoch-14-----\n",
      "|----------------------------------------|---------|------------|\n",
      "| Accuracy                               |    loss |       time |\n",
      "|----------------------------------------|---------|------------|\n",
      "| (99.51495553759095, 98.94907033144705) | 0.02578 | 2922.75924 |\n",
      "-----Starting Epoch-15-----\n",
      "|----------------------------------------|---------|------------|\n",
      "| Accuracy                               |    loss |       time |\n",
      "|----------------------------------------|---------|------------|\n",
      "| (99.51495553759095, 98.94907033144705) | 0.02354 | 3108.93052 |\n",
      "-----Starting Epoch-16-----\n",
      "|----------------------------------------|---------|------------|\n",
      "| Accuracy                               |    loss |       time |\n",
      "|----------------------------------------|---------|------------|\n",
      "| (99.51495553759095, 98.94907033144705) | 0.02154 | 3296.56438 |\n",
      "-----Starting Epoch-17-----\n",
      "|----------------------------------------|---------|------------|\n",
      "| Accuracy                               |    loss |       time |\n",
      "|----------------------------------------|---------|------------|\n",
      "| (99.59579628132579, 98.94907033144705) | 0.01996 | 3483.96445 |\n",
      "-----Starting Epoch-18-----\n",
      "|----------------------------------------|---------|------------|\n",
      "| Accuracy                               |    loss |       time |\n",
      "|----------------------------------------|---------|------------|\n",
      "| (99.59579628132579, 99.02991107518189) | 0.01858 | 3667.90413 |\n",
      "-----Starting Epoch-19-----\n",
      "|----------------------------------------|---------|------------|\n",
      "| Accuracy                               |    loss |       time |\n",
      "|----------------------------------------|---------|------------|\n",
      "| (99.59579628132579, 99.02991107518189) | 0.01743 | 3853.44888 |\n",
      "-----Starting Epoch-20-----\n",
      "|----------------------------------------|---------|------------|\n",
      "| Accuracy                               |    loss |       time |\n",
      "|----------------------------------------|---------|------------|\n",
      "| (99.59579628132579, 99.02991107518189) | 0.01645 | 4037.62175 |\n",
      "-----Starting validating the model-----\n",
      "-----Validation accuracy and avg loss are-----\n",
      "|----------------------------------------|---------|----------|\n",
      "| Accuracy                               |    loss |     time |\n",
      "|----------------------------------------|---------|----------|\n",
      "| (93.43065693430657, 48.41849148418492) | 0.16192 | 55.14354 |\n",
      "sensitivity_ff      sensitivity_bl\n",
      "----------------  ----------------\n",
      "sensitivity_ff                   0\n",
      "sensitivity_bl                   1\n",
      "specificity_ff                   0\n",
      "specificity_bl                 nan\n",
      "-----Starting Epoch-21-----\n",
      "|----------------------------------------|---------|------------|\n",
      "| Accuracy                               |    loss |       time |\n",
      "|----------------------------------------|---------|------------|\n",
      "| (99.59579628132579, 99.02991107518189) | 0.01563 | 4276.52103 |\n",
      "-----Starting Epoch-22-----\n",
      "|----------------------------------------|---------|------------|\n",
      "| Accuracy                               |    loss |       time |\n",
      "|----------------------------------------|---------|------------|\n",
      "| (99.59579628132579, 99.02991107518189) | 0.01483 | 4464.69316 |\n",
      "-----Starting Epoch-23-----\n",
      "|----------------------------------------|---------|------------|\n",
      "| Accuracy                               |    loss |       time |\n",
      "|----------------------------------------|---------|------------|\n",
      "| (99.59579628132579, 99.02991107518189) | 0.01417 | 4652.85835 |\n",
      "-----Starting Epoch-24-----\n",
      "|----------------------------------------|---------|------------|\n",
      "| Accuracy                               |    loss |       time |\n",
      "|----------------------------------------|---------|------------|\n",
      "| (99.59579628132579, 99.02991107518189) | 0.01361 | 4839.87371 |\n",
      "-----Starting Epoch-25-----\n",
      "|----------------------------------------|---------|------------|\n",
      "| Accuracy                               |    loss |       time |\n",
      "|----------------------------------------|---------|------------|\n",
      "| (99.59579628132579, 99.02991107518189) | 0.01309 | 5026.84886 |\n",
      "-----Starting Epoch-26-----\n",
      "|----------------------------------------|---------|------------|\n",
      "| Accuracy                               |    loss |       time |\n",
      "|----------------------------------------|---------|------------|\n",
      "| (99.59579628132579, 99.02991107518189) | 0.01262 | 5214.80661 |\n",
      "-----Starting Epoch-27-----\n",
      "|----------------------------------------|---------|------------|\n",
      "| Accuracy                               |    loss |       time |\n",
      "|----------------------------------------|---------|------------|\n",
      "| (99.59579628132579, 99.11075181891673) | 0.01221 | 5402.77045 |\n",
      "-----Starting Epoch-28-----\n",
      "|----------------------------------------|---------|------------|\n",
      "| Accuracy                               |    loss |       time |\n",
      "|----------------------------------------|---------|------------|\n",
      "| (99.59579628132579, 99.11075181891673) | 0.01191 | 5591.00847 |\n",
      "-----Starting Epoch-29-----\n",
      "|----------------------------------------|---------|------------|\n",
      "| Accuracy                               |    loss |       time |\n",
      "|----------------------------------------|---------|------------|\n",
      "| (99.59579628132579, 99.11075181891673) | 0.01159 | 5778.82706 |\n",
      "-----Starting Epoch-30-----\n",
      "|----------------------------------------|---------|------------|\n",
      "| Accuracy                               |    loss |       time |\n",
      "|----------------------------------------|---------|------------|\n",
      "| (99.59579628132579, 99.02991107518189) | 0.01135 | 5963.39364 |\n",
      "-----Starting validating the model-----\n",
      "-----Validation accuracy and avg loss are-----\n",
      "|----------------------------------------|---------|----------|\n",
      "| Accuracy                               |    loss |     time |\n",
      "|----------------------------------------|---------|----------|\n",
      "| (94.16058394160584, 48.41849148418492) | 0.15857 | 55.28105 |\n",
      "sensitivity_ff      sensitivity_bl\n",
      "----------------  ----------------\n",
      "sensitivity_ff                   0\n",
      "sensitivity_bl                   1\n",
      "specificity_ff                   0\n",
      "specificity_bl                 nan\n",
      "-----Starting Epoch-31-----\n",
      "|----------------------------------------|---------|------------|\n",
      "| Accuracy                               |    loss |       time |\n",
      "|----------------------------------------|---------|------------|\n",
      "| (99.67663702506063, 99.02991107518189) | 0.01109 | 6203.07222 |\n",
      "-----Starting Epoch-32-----\n",
      "|----------------------------------------|---------|------------|\n",
      "| Accuracy                               |    loss |       time |\n",
      "|----------------------------------------|---------|------------|\n",
      "| (99.67663702506063, 99.02991107518189) | 0.01092 | 6388.09315 |\n",
      "-----Starting Epoch-33-----\n",
      "|----------------------------------------|---------|------------|\n",
      "| Accuracy                               |    loss |       time |\n",
      "|----------------------------------------|---------|------------|\n",
      "| (99.67663702506063, 99.02991107518189) | 0.01076 | 6575.39350 |\n",
      "-----Starting Epoch-34-----\n",
      "|----------------------------------------|---------|------------|\n",
      "| Accuracy                               |    loss |       time |\n",
      "|----------------------------------------|---------|------------|\n",
      "| (99.67663702506063, 99.02991107518189) | 0.01055 | 6764.13022 |\n",
      "[info] Finish saving the model\n"
     ]
    }
   ],
   "source": [
    "import time\n",
    "from torchmetrics.classification import MultilabelAccuracy\n",
    "import numpy as np\n",
    "\n",
    "model = Model()\n",
    "epochs = 35\n",
    "lr = 1e-4\n",
    "batch_size = 50\n",
    "train_loader = torch.utils.data.DataLoader(CustomDataset(training_samples), batch_size = batch_size)\n",
    "val_loader = torch.utils.data.DataLoader(CustomDataset(validation_samples), batch_size = batch_size)\n",
    "optimizer = torch.optim.Adam(model.parameters(), lr = lr)\n",
    "start_time = time.time()\n",
    "\n",
    "for epoch in range(epochs):\n",
    "    print(\"-----Starting Epoch-{}-----\".format(epoch))\n",
    "    predicted_values, loss = train(model, train_loader, optimizer)\n",
    "    acc = cal_acc(training_labels, predicted_values)\n",
    "    training_accuracies.append(acc)\n",
    "    training_losses.append(loss)\n",
    "    \n",
    "    tabulate_epoch_meter(time.time() - start_time, acc, loss.item())\n",
    "    \n",
    "    if epoch % 10 == 0:\n",
    "        print(\"-----Starting validating the model-----\")\n",
    "        test(model, val_loader)\n",
    "        \n",
    "save_checkpoint({'epoch': epoch + 1,\n",
    "    'state_dict': model.state_dict(),\n",
    "    'optimizer': optimizer.state_dict()}, epochs)\n"
   ]
  },
  {
   "cell_type": "code",
   "execution_count": 29,
   "id": "14e2bb5f-ec89-4250-bce5-5af6f9bf1d14",
   "metadata": {},
   "outputs": [],
   "source": [
    "#Saving accuracies\n",
    "\n",
    "accuracies = {}\n",
    "accuracies[\"training_accuracies\"] = training_accuracies\n",
    "accuracies[\"validation_accuracies\"] = validation_accuracies\n",
    "\n",
    "losses = {}\n",
    "losses[\"training_losses\"] = training_losses\n",
    "losses[\"validation_losses\"] = validation_losses\n",
    "\n",
    "f = open(\"metrics.txt\",\"w\")\n",
    "\n",
    "# write file\n",
    "f.write(str(accuracies))\n",
    "f.write(str(losses) )\n",
    "\n",
    "# close file\n",
    "f.close()"
   ]
  },
  {
   "cell_type": "markdown",
   "id": "d6fe344e-c61d-4d01-8b6c-ba15095935ad",
   "metadata": {},
   "source": [
    "Testing the trained model"
   ]
  },
  {
   "cell_type": "code",
   "execution_count": 30,
   "id": "ead48c29-752c-4ad1-b02d-bafc7a5ecc5f",
   "metadata": {},
   "outputs": [
    {
     "name": "stdout",
     "output_type": "stream",
     "text": [
      "-----Testing accuracy and avg loss are-----\n",
      "|----------------------------------------|---------|----------|\n",
      "| Accuracy                               |    loss |     time |\n",
      "|----------------------------------------|---------|----------|\n",
      "| (88.83495145631069, 48.54368932038835) | 0.32848 | 66.94941 |\n",
      "sensitivity_ff      sensitivity_bl\n",
      "----------------  ----------------\n",
      "sensitivity_ff                   0\n",
      "sensitivity_bl                   1\n",
      "specificity_ff                   1\n",
      "specificity_bl                 nan\n"
     ]
    }
   ],
   "source": [
    "import time\n",
    "\n",
    "gpu = torch.cuda.current_device()\n",
    "device = 'cuda' if torch.cuda.is_available() else 'cpu'\n",
    "model_for_testing = Model()\n",
    "model_for_testing.cuda(gpu)\n",
    "\n",
    "saved_model = torch.load('Model/model_after_35_epochs.tar', map_location=\"cuda:{}\".format(gpu))\n",
    "model_for_testing.load_state_dict(saved_model[\"state_dict\"])\n",
    "\n",
    "batch_size = 100\n",
    "test_loader = torch.utils.data.DataLoader(CustomDataset(testing_samples), batch_size = batch_size)\n",
    "\n",
    "model_for_testing.eval()\n",
    "loss = []\n",
    "predicted_val = []\n",
    "start_time = time.time()\n",
    "for batch_idx, batch in enumerate(test_loader):\n",
    "    image = batch[0]\n",
    "    label_1 = batch[1]\n",
    "    label_2 = batch[2]\n",
    "    labels = unpack_labels(label_1, label_2)\n",
    "    labels = torch.tensor(labels, device=device, dtype = torch.float64)\n",
    "    \n",
    "    with torch.no_grad():\n",
    "        y_pred = model_for_testing(image)\n",
    "        binary_crossentropy_loss = nn.BCELoss()\n",
    "        loss_ = binary_crossentropy_loss(y_pred, labels)\n",
    "        loss.append(loss_)\n",
    "\n",
    "    #Check the threshold\n",
    "    for row in range(len(y_pred)):\n",
    "        pred_lables = []\n",
    "        if y_pred[row][0] >= 0.4:\n",
    "            pred_lables.append(1)\n",
    "        else:\n",
    "            pred_lables.append(0)\n",
    "        if y_pred[0][1] >= 0.4:\n",
    "            pred_lables.append(1)\n",
    "        else:\n",
    "            pred_lables.append(0)\n",
    "        predicted_val.append(pred_lables)\n",
    "        \n",
    "test_acc = cal_acc(testing_labels, predicted_val)\n",
    "conf_matrices = cal_confusion_matrices(testing_labels, predicted_val)\n",
    "    \n",
    "sensitivity_ff = cal_sensitivity(conf_matrices['confusion_matrics_ff'])\n",
    "sensitivity_bl = cal_sensitivity(conf_matrices['confusion_matrics_bl'])\n",
    "    \n",
    "specificity_ff = cal_specificity(conf_matrices['confusion_matrics_ff'])\n",
    "specificity_bl = cal_specificity(conf_matrices['confusion_matrics_bl'])\n",
    "    \n",
    "metrics = {'sensitivity_ff': sensitivity_ff,\n",
    "               'sensitivity_bl': sensitivity_bl,\n",
    "               'specificity_ff': specificity_ff,\n",
    "               'specificity_bl': specificity_bl}\n",
    "\n",
    "print(\"-----Testing accuracy and avg loss are-----\")\n",
    "tabulate_epoch_meter(time.time() - start_time, test_acc, sum(loss)/len(loss), metrics)"
   ]
  },
  {
   "cell_type": "code",
   "execution_count": 70,
   "id": "e598d827-27e5-4306-9492-db0418619c09",
   "metadata": {},
   "outputs": [],
   "source": [
    "import re\n",
    "\n",
    "f = open(\"copy_metrics.txt\",\"r\")\n",
    "accuracies = f.read()\n",
    "\n",
    "training_acc = accuracies.split(\"\\n\")[0].split(\":\")[1]\n",
    "training_accuracies = eval(training_acc)\n",
    "\n",
    "validation_acc = accuracies.split(\"\\n\")[1].split(\":\")[1]\n",
    "validation_accuracies = eval(validation_acc)\n",
    "\n",
    "training_loss = accuracies.split(\"\\n\")[2].split(\":\")[1]\n",
    "training_losses = eval(training_loss)\n",
    "\n",
    "validation_loss = accuracies.split(\"\\n\")[3].split(\":\")[1]\n",
    "validation_losses = eval(validation_loss)"
   ]
  },
  {
   "cell_type": "markdown",
   "id": "8271abf1-33e8-48ed-bbea-91ebe6c7cc06",
   "metadata": {
    "id": "8jtz75xkivoq"
   },
   "source": [
    "Plotting training accuracy vs epochs"
   ]
  },
  {
   "cell_type": "code",
   "execution_count": 72,
   "id": "31rIbTxUm59n",
   "metadata": {
    "id": "31rIbTxUm59n"
   },
   "outputs": [
    {
     "data": {
      "image/png": "[encoded data removed]",
      "text/plain": [
       "<Figure size 432x288 with 1 Axes>"
      ]
     },
     "metadata": {
      "needs_background": "light"
     },
     "output_type": "display_data"
    },
    {
     "data": {
      "image/png": "[encoded data removed]",
      "text/plain": [
       "<Figure size 432x288 with 1 Axes>"
      ]
     },
     "metadata": {
      "needs_background": "light"
     },
     "output_type": "display_data"
    }
   ],
   "source": [
    "# facial_features_acc, brain_loss_acc\n",
    "import matplotlib.pyplot as plt\n",
    "\n",
    "training_accuracies_ff_acc = []\n",
    "training_accuracies_bl_acc = []\n",
    "validation_accuracies_ff_acc = []\n",
    "validation_accuracies_bl_acc = []\n",
    "epochs = []\n",
    "val_counter = 0\n",
    "for row in range(len(training_accuracies)):\n",
    "    training_accuracies_ff_acc.append(training_accuracies[row][0])\n",
    "    training_accuracies_bl_acc.append(training_accuracies[row][1])\n",
    "    epochs.append(row)\n",
    "    if row % 10 == 0:\n",
    "        validation_accuracies_ff_acc.append(validation_accuracies[val_counter][0])\n",
    "        validation_accuracies_bl_acc.append(validation_accuracies[val_counter][1])\n",
    "        val_counter = val_counter + 1\n",
    "    else:\n",
    "        validation_accuracies_ff_acc.append(0)\n",
    "        validation_accuracies_bl_acc.append(0)\n",
    "\n",
    "#Facial Features\n",
    "#Training accuracies\n",
    "plt.plot(epochs, training_accuracies_ff_acc, color=\"blue\")\n",
    "\n",
    "#Validation accuracies\n",
    "plt.stackplot(epochs, validation_accuracies_ff_acc, color=\"orange\")\n",
    "\n",
    "plt.ylabel('Accuracy')\n",
    "plt.xlabel('Epochs')\n",
    "plt.title('Facial Features')\n",
    "plt.show()\n",
    "\n",
    "#Brain Features\n",
    "#Training accuracies\n",
    "plt.plot(epochs, training_accuracies_bl_acc, color=\"blue\")\n",
    "\n",
    "#Validation accuracies\n",
    "plt.stackplot(epochs, validation_accuracies_bl_acc, color=\"orange\")\n",
    "\n",
    "plt.ylabel('Accuracy')\n",
    "plt.xlabel('Epochs')\n",
    "plt.title('Brain Features')\n",
    "plt.show()"
   ]
  },
  {
   "cell_type": "code",
   "execution_count": 73,
   "id": "c2555117-3a30-4d83-851e-e517a7614394",
   "metadata": {},
   "outputs": [
    {
     "data": {
      "image/png": "[encoded data removed]",
      "text/plain": [
       "<Figure size 432x288 with 1 Axes>"
      ]
     },
     "metadata": {
      "needs_background": "light"
     },
     "output_type": "display_data"
    },
    {
     "data": {
      "image/png": "[encoded data removed]",
      "text/plain": [
       "<Figure size 432x288 with 1 Axes>"
      ]
     },
     "metadata": {
      "needs_background": "light"
     },
     "output_type": "display_data"
    }
   ],
   "source": [
    "# facial_features_acc, brain_loss_acc\n",
    "import matplotlib.pyplot as plt\n",
    "\n",
    "#Training losses\n",
    "plt.plot(epochs, training_losses, color=\"blue\")\n",
    "\n",
    "plt.ylabel('Loss')\n",
    "plt.xlabel('Epochs')\n",
    "plt.title('Training Loss')\n",
    "plt.show()\n",
    "\n",
    "#Validation Losses\n",
    "plt.plot(range(len(validation_losses)), validation_losses, color=\"blue\")\n",
    "\n",
    "plt.ylabel('Loss')\n",
    "plt.xlabel('Epochs')\n",
    "plt.title('Validation Loss')\n",
    "plt.show()"
   ]
  }
 ],
 "metadata": {
  "accelerator": "GPU",
  "colab": {
   "provenance": []
  },
  "gpuClass": "standard",
  "kernelspec": {
   "display_name": "Python 3 (ipykernel)",
   "language": "python",
   "name": "python3"
  },
  "language_info": {
   "codemirror_mode": {
    "name": "ipython",
    "version": 3
   },
   "file_extension": ".py",
   "mimetype": "text/x-python",
   "name": "python",
   "nbconvert_exporter": "python",
   "pygments_lexer": "ipython3",
   "version": "3.9.12"
  },
  "widgets": {
   "application/vnd.jupyter.widget-state+json": {
    "state": {},
    "version_major": 2,
    "version_minor": 0
   }
  }
 },
 "nbformat": 4,
 "nbformat_minor": 5
}
